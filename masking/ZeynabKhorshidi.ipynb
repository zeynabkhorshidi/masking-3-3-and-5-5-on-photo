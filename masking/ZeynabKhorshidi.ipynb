{
 "cells": [
  {
   "cell_type": "markdown",
   "id": "e4177926",
   "metadata": {},
   "source": [
    "<div class=\"alert alert-block alert-success\">\n",
    "    <h1 align=\"center\">Zeynab Khorshidi</h1>\n",
    "</div>"
   ]
  },
  {
   "cell_type": "code",
   "execution_count": 29,
   "id": "acc5787f",
   "metadata": {},
   "outputs": [],
   "source": [
    "import numpy as np\n",
    "import pandas as pd\n",
    "import cv2"
   ]
  },
  {
   "cell_type": "code",
   "execution_count": 30,
   "id": "d69bffa6",
   "metadata": {},
   "outputs": [],
   "source": [
    "image = cv2.imread('1.jpg',0)"
   ]
  },
  {
   "cell_type": "code",
   "execution_count": 31,
   "id": "7e8e918f",
   "metadata": {},
   "outputs": [],
   "source": [
    "cv2.imshow('first',image)"
   ]
  },
  {
   "cell_type": "code",
   "execution_count": 32,
   "id": "d0d1f33a",
   "metadata": {},
   "outputs": [
    {
     "name": "stdout",
     "output_type": "stream",
     "text": [
      "[[209 225 218 ... 135 159 170]\n",
      " [180 209 242 ... 129 163 161]\n",
      " [188 209 228 ... 119 161 162]\n",
      " ...\n",
      " [ 75  85  82 ...  83  85  84]\n",
      " [ 78  85  77 ...  85  87  86]\n",
      " [ 74  82  72 ...  86  89  89]]\n"
     ]
    }
   ],
   "source": [
    "print(image)"
   ]
  },
  {
   "cell_type": "code",
   "execution_count": 33,
   "id": "8a1c3b08",
   "metadata": {},
   "outputs": [
    {
     "data": {
      "text/plain": [
       "array([[209, 225, 218, ..., 135, 159, 170],\n",
       "       [180, 209, 242, ..., 129, 163, 161],\n",
       "       [188, 209, 228, ..., 119, 161, 162],\n",
       "       ...,\n",
       "       [ 75,  85,  82, ...,  83,  85,  84],\n",
       "       [ 78,  85,  77, ...,  85,  87,  86],\n",
       "       [ 74,  82,  72, ...,  86,  89,  89]], dtype=uint8)"
      ]
     },
     "execution_count": 33,
     "metadata": {},
     "output_type": "execute_result"
    }
   ],
   "source": [
    "image"
   ]
  },
  {
   "cell_type": "code",
   "execution_count": 34,
   "id": "b52c790d",
   "metadata": {},
   "outputs": [
    {
     "name": "stdout",
     "output_type": "stream",
     "text": [
      "Height of image: (100, 'pixels')\n",
      "Width of image: (100, 'pixels')\n"
     ]
    }
   ],
   "source": [
    "print('Height of image:',(image.shape[0],'pixels'))\n",
    "print('Width of image:',(image.shape[1],'pixels'))"
   ]
  },
  {
   "cell_type": "code",
   "execution_count": 35,
   "id": "4695cbd5",
   "metadata": {},
   "outputs": [],
   "source": [
    "first_mask=np.array([\n",
    "    [1,1,1],\n",
    "    [1,1,1],\n",
    "    [1,1,1]\n",
    "])"
   ]
  },
  {
   "cell_type": "code",
   "execution_count": 36,
   "id": "13577013",
   "metadata": {},
   "outputs": [
    {
     "name": "stdout",
     "output_type": "stream",
     "text": [
      "[[1 1 1]\n",
      " [1 1 1]\n",
      " [1 1 1]]\n"
     ]
    }
   ],
   "source": [
    "print(first_mask)"
   ]
  },
  {
   "cell_type": "code",
   "execution_count": 37,
   "id": "e4bf8c85",
   "metadata": {},
   "outputs": [
    {
     "name": "stdout",
     "output_type": "stream",
     "text": [
      "[[  0   0   0 ...   0   0   0]\n",
      " [  0 209 225 ... 159 170   0]\n",
      " [  0 180 209 ... 163 161   0]\n",
      " ...\n",
      " [  0  78  85 ...  87  86   0]\n",
      " [  0  74  82 ...  89  89   0]\n",
      " [  0   0   0 ...   0   0   0]]\n"
     ]
    }
   ],
   "source": [
    "image_padding_3 = np.pad(image, (1, 1))       \n",
    "print(image_padding_3)"
   ]
  },
  {
   "cell_type": "code",
   "execution_count": 38,
   "id": "ac6fc58f",
   "metadata": {},
   "outputs": [
    {
     "name": "stdout",
     "output_type": "stream",
     "text": [
      "Height of image: (102, 'pixels')\n",
      "Width of image: (102, 'pixels')\n"
     ]
    }
   ],
   "source": [
    "print('Height of image:',(image_padding_3.shape[0],'pixels'))\n",
    "print('Width of image:',(image_padding_3.shape[1],'pixels'))"
   ]
  },
  {
   "cell_type": "code",
   "execution_count": 39,
   "id": "d0f2f810",
   "metadata": {
    "scrolled": true
   },
   "outputs": [
    {
     "name": "stdout",
     "output_type": "stream",
     "text": [
      "9\n"
     ]
    }
   ],
   "source": [
    "sum_first_mask = np.sum(first_mask)\n",
    "print(sum_first_mask)"
   ]
  },
  {
   "cell_type": "code",
   "execution_count": 40,
   "id": "f0f89767",
   "metadata": {},
   "outputs": [
    {
     "name": "stdout",
     "output_type": "stream",
     "text": [
      "0.1111111111111111\n"
     ]
    }
   ],
   "source": [
    "zarib_3 = 1/sum_first_mask\n",
    "print(zarib_3)"
   ]
  },
  {
   "cell_type": "code",
   "execution_count": 41,
   "id": "96503797",
   "metadata": {},
   "outputs": [],
   "source": [
    "for i in range(100):\n",
    "    for j in range(100):\n",
    "        image_padding_3[i+1][j+1] = ((image_padding_3[i][j] * zarib_3) \n",
    "                                  + (image_padding_3[i][j+1] * zarib_3)\n",
    "                                  + (image_padding_3[i][j+2] * zarib_3)\n",
    "                                  + (image_padding_3[i+1][j] * zarib_3)\n",
    "                                  + (image_padding_3[i+1][j+1] * zarib_3)\n",
    "                                  + (image_padding_3[i+1][j+2] * zarib_3)\n",
    "                                  + (image_padding_3[i+2][j] * zarib_3)\n",
    "                                  + (image_padding_3[i+2][j+1] * zarib_3)\n",
    "                                  + (image_padding_3[i+2][j+2] * zarib_3))"
   ]
  },
  {
   "cell_type": "code",
   "execution_count": 42,
   "id": "28f13b29",
   "metadata": {
    "scrolled": true
   },
   "outputs": [
    {
     "name": "stdout",
     "output_type": "stream",
     "text": [
      "[[  0   0   0 ...   0   0   0]\n",
      " [  0  91 129 ...  96  65   0]\n",
      " [  0 111 170 ... 125  85   0]\n",
      " ...\n",
      " [  0  48  70 ...  81  52   0]\n",
      " [  0  30  42 ...  49  30   0]\n",
      " [  0   0   0 ...   0   0   0]]\n"
     ]
    }
   ],
   "source": [
    "print(image_padding_3)"
   ]
  },
  {
   "cell_type": "code",
   "execution_count": 43,
   "id": "cf1dfe04",
   "metadata": {},
   "outputs": [],
   "source": [
    "image_padding_3 = image_padding_3[1:-1,1:-1]"
   ]
  },
  {
   "cell_type": "code",
   "execution_count": 44,
   "id": "a9417b3b",
   "metadata": {},
   "outputs": [
    {
     "name": "stdout",
     "output_type": "stream",
     "text": [
      "[[ 91 129 128 ...  84  96  65]\n",
      " [111 170 179 ... 117 125  85]\n",
      " [121 183 200 ... 130 136  93]\n",
      " ...\n",
      " [ 48  71  76 ...  84  80  51]\n",
      " [ 48  70  76 ...  85  81  52]\n",
      " [ 30  42  46 ...  53  49  30]]\n"
     ]
    }
   ],
   "source": [
    "print(image_padding_3)"
   ]
  },
  {
   "cell_type": "code",
   "execution_count": 45,
   "id": "314fb1c0",
   "metadata": {},
   "outputs": [],
   "source": [
    "cv2.imshow(\"End3\",image_padding_3)"
   ]
  },
  {
   "cell_type": "code",
   "execution_count": 46,
   "id": "e22fac32",
   "metadata": {},
   "outputs": [],
   "source": [
    "second_mask=np.array([\n",
    "    [1,1,1,1,1],\n",
    "    [1,1,1,1,1],\n",
    "    [1,1,1,1,1],\n",
    "    [1,1,1,1,1],\n",
    "    [1,1,1,1,1]\n",
    "])"
   ]
  },
  {
   "cell_type": "code",
   "execution_count": 47,
   "id": "b319d060",
   "metadata": {},
   "outputs": [
    {
     "name": "stdout",
     "output_type": "stream",
     "text": [
      "[[1 1 1 1 1]\n",
      " [1 1 1 1 1]\n",
      " [1 1 1 1 1]\n",
      " [1 1 1 1 1]\n",
      " [1 1 1 1 1]]\n"
     ]
    }
   ],
   "source": [
    "print(second_mask)"
   ]
  },
  {
   "cell_type": "code",
   "execution_count": 48,
   "id": "554fea7c",
   "metadata": {},
   "outputs": [
    {
     "name": "stdout",
     "output_type": "stream",
     "text": [
      "[[  0   0   0 ...   0   0   0]\n",
      " [  0   0   0 ...   0   0   0]\n",
      " [  0   0 209 ... 170   0   0]\n",
      " ...\n",
      " [  0   0  74 ...  89   0   0]\n",
      " [  0   0   0 ...   0   0   0]\n",
      " [  0   0   0 ...   0   0   0]]\n"
     ]
    }
   ],
   "source": [
    "image_padding_5 = np.pad(image, (2, 2))       \n",
    "print(image_padding_5)"
   ]
  },
  {
   "cell_type": "code",
   "execution_count": 49,
   "id": "8ce29236",
   "metadata": {},
   "outputs": [
    {
     "name": "stdout",
     "output_type": "stream",
     "text": [
      "Height of image: (104, 'pixels')\n",
      "Width of image: (104, 'pixels')\n"
     ]
    }
   ],
   "source": [
    "print('Height of image:',(image_padding_5.shape[0],'pixels'))\n",
    "print('Width of image:',(image_padding_5.shape[1],'pixels'))"
   ]
  },
  {
   "cell_type": "code",
   "execution_count": 50,
   "id": "bab8d4c3",
   "metadata": {},
   "outputs": [
    {
     "name": "stdout",
     "output_type": "stream",
     "text": [
      "25\n"
     ]
    }
   ],
   "source": [
    "sum_second_mask = np.sum(second_mask)\n",
    "print(sum_second_mask)"
   ]
  },
  {
   "cell_type": "code",
   "execution_count": 51,
   "id": "3c5e5492",
   "metadata": {},
   "outputs": [
    {
     "name": "stdout",
     "output_type": "stream",
     "text": [
      "0.04\n"
     ]
    }
   ],
   "source": [
    "zarib_5 = 1/sum_second_mask\n",
    "print(zarib_5)"
   ]
  },
  {
   "cell_type": "code",
   "execution_count": 52,
   "id": "63f4d7b6",
   "metadata": {},
   "outputs": [],
   "source": [
    "for i in range(100):\n",
    "    for j in range(100):\n",
    "        image_padding_5[i+2][j+2] = ((image_padding_5[i][j] * zarib_5) \n",
    "        + (image_padding_5[i][j+1] * zarib_5)\n",
    "        + (image_padding_5[i][j+2] * zarib_5)\n",
    "        + (image_padding_5[i][j+3] * zarib_5)\n",
    "        + (image_padding_5[i][j+4] * zarib_5)\n",
    "        + (image_padding_5[i+1][j] * zarib_5)\n",
    "        + (image_padding_5[i+1][j+1] * zarib_5)\n",
    "        + (image_padding_5[i+1][j+2] * zarib_5)\n",
    "        + (image_padding_5[i+1][j+3] * zarib_5)\n",
    "        + (image_padding_5[i+1][j+4] * zarib_5) \n",
    "        + (image_padding_5[i+2][j] * zarib_5)\n",
    "        + (image_padding_5[i+2][j+1] * zarib_5)\n",
    "        + (image_padding_5[i+2][j+2] * zarib_5)\n",
    "        + (image_padding_5[i+2][j+3] * zarib_5)\n",
    "        + (image_padding_5[i+2][j+4] * zarib_5)\n",
    "        + (image_padding_5[i+3][j] * zarib_5)\n",
    "        + (image_padding_5[i+3][j+1] * zarib_5)\n",
    "        + (image_padding_5[i+3][j+2] * zarib_5)\n",
    "        + (image_padding_5[i+3][j+3] * zarib_5) \n",
    "        + (image_padding_5[i+3][j+4] * zarib_5)\n",
    "        + (image_padding_5[i+4][j] * zarib_5)\n",
    "        + (image_padding_5[i+4][j+1] * zarib_5)\n",
    "        + (image_padding_5[i+4][j+2] * zarib_5)\n",
    "        + (image_padding_5[i+4][j+3] * zarib_5)\n",
    "        + (image_padding_5[i+4][j+4] * zarib_5))"
   ]
  },
  {
   "cell_type": "code",
   "execution_count": 53,
   "id": "e647c22e",
   "metadata": {},
   "outputs": [
    {
     "name": "stdout",
     "output_type": "stream",
     "text": [
      "[[ 0  0  0 ...  0  0  0]\n",
      " [ 0  0  0 ...  0  0  0]\n",
      " [ 0  0 76 ... 48  0  0]\n",
      " ...\n",
      " [ 0  0 20 ... 19  0  0]\n",
      " [ 0  0  0 ...  0  0  0]\n",
      " [ 0  0  0 ...  0  0  0]]\n"
     ]
    }
   ],
   "source": [
    "print(image_padding_5)"
   ]
  },
  {
   "cell_type": "code",
   "execution_count": 54,
   "id": "20dc1948",
   "metadata": {},
   "outputs": [],
   "source": [
    "image_padding_5 = image_padding_5[2:-2,2:-2]"
   ]
  },
  {
   "cell_type": "code",
   "execution_count": 55,
   "id": "151e74a8",
   "metadata": {},
   "outputs": [
    {
     "name": "stdout",
     "output_type": "stream",
     "text": [
      "[[ 76  94 106 ...  82  63  48]\n",
      " [ 86 111 131 ... 100  77  57]\n",
      " [100 131 159 ... 129 100  73]\n",
      " ...\n",
      " [ 41  54  69 ...  79  62  44]\n",
      " [ 31  42  53 ...  61  47  33]\n",
      " [ 20  26  33 ...  39  29  19]]\n"
     ]
    }
   ],
   "source": [
    "print(image_padding_5)"
   ]
  },
  {
   "cell_type": "code",
   "execution_count": 56,
   "id": "f21d05cb",
   "metadata": {},
   "outputs": [],
   "source": [
    "cv2.imshow(\"End5\",image_padding_5)"
   ]
  },
  {
   "cell_type": "code",
   "execution_count": null,
   "id": "32784c84",
   "metadata": {},
   "outputs": [],
   "source": []
  }
 ],
 "metadata": {
  "kernelspec": {
   "display_name": "Python 3 (ipykernel)",
   "language": "python",
   "name": "python3"
  },
  "language_info": {
   "codemirror_mode": {
    "name": "ipython",
    "version": 3
   },
   "file_extension": ".py",
   "mimetype": "text/x-python",
   "name": "python",
   "nbconvert_exporter": "python",
   "pygments_lexer": "ipython3",
   "version": "3.10.4"
  }
 },
 "nbformat": 4,
 "nbformat_minor": 5
}
